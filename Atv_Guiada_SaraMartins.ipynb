{
  "nbformat": 4,
  "nbformat_minor": 0,
  "metadata": {
    "colab": {
      "provenance": [],
      "authorship_tag": "ABX9TyN8p0TwgpUGsBs99AXKC38b",
      "include_colab_link": true
    },
    "kernelspec": {
      "name": "python3",
      "display_name": "Python 3"
    },
    "language_info": {
      "name": "python"
    }
  },
  "cells": [
    {
      "cell_type": "markdown",
      "metadata": {
        "id": "view-in-github",
        "colab_type": "text"
      },
      "source": [
        "<a href=\"https://colab.research.google.com/github/SaraSilvaa/Aula-Mineiracao-de-Dados/blob/master/Atv_Guiada_SaraMartins.ipynb\" target=\"_parent\"><img src=\"https://colab.research.google.com/assets/colab-badge.svg\" alt=\"Open In Colab\"/></a>"
      ]
    },
    {
      "cell_type": "markdown",
      "source": [
        "#ANALISE DE DADOS: Avaliações de clientes do iPhone | PNL\n"
      ],
      "metadata": {
        "id": "p2EctFIfrFM5"
      }
    },
    {
      "cell_type": "code",
      "execution_count": 33,
      "metadata": {
        "colab": {
          "base_uri": "https://localhost:8080/",
          "height": 206
        },
        "id": "k74-jfOGqd5i",
        "outputId": "7697ff41-11ae-4d72-deb2-3c10f90d70f2"
      },
      "outputs": [
        {
          "output_type": "execute_result",
          "data": {
            "text/plain": [
              "  productAsin country        date  isVerified  ratingScore  \\\n",
              "0  B09G9BL5CP   India  11-08-2024        True            4   \n",
              "1  B09G9BL5CP   India  16-08-2024        True            5   \n",
              "2  B09G9BL5CP   India  14-05-2024        True            4   \n",
              "3  B09G9BL5CP   India  24-06-2024        True            5   \n",
              "4  B09G9BL5CP   India  18-05-2024        True            5   \n",
              "\n",
              "               reviewTitle                                  reviewDescription  \\\n",
              "0               No charger  Every thing is good about iPhones, there's not...   \n",
              "1          iPhone 13 256GB  It look so fabulous, I am android user switche...   \n",
              "2  Flip camera option nill  I tried to flip camera while recording but no ...   \n",
              "3                  Product                                       100% genuine   \n",
              "4             Good product         Happy to get the iPhone 13 in Amazon offer   \n",
              "\n",
              "                                           reviewUrl  \\\n",
              "0  https://www.amazon.in/gp/customer-reviews/R345...   \n",
              "1  https://www.amazon.in/gp/customer-reviews/R2HJ...   \n",
              "2  https://www.amazon.in/gp/customer-reviews/R3Y7...   \n",
              "3  https://www.amazon.in/gp/customer-reviews/R1P9...   \n",
              "4  https://www.amazon.in/gp/customer-reviews/R1XI...   \n",
              "\n",
              "                            reviewedIn                       variant  \\\n",
              "0  Reviewed in India on 11 August 2024  Colour: MidnightSize: 256 GB   \n",
              "1  Reviewed in India on 16 August 2024  Colour: MidnightSize: 256 GB   \n",
              "2     Reviewed in India on 14 May 2024  Colour: MidnightSize: 256 GB   \n",
              "3    Reviewed in India on 24 June 2024  Colour: MidnightSize: 256 GB   \n",
              "4     Reviewed in India on 18 May 2024  Colour: MidnightSize: 256 GB   \n",
              "\n",
              "  variantAsin  \n",
              "0  B09G9BQS98  \n",
              "1  B09G9BQS98  \n",
              "2  B09G9BQS98  \n",
              "3  B09G9BQS98  \n",
              "4  B09G9BQS98  "
            ],
            "text/html": [
              "\n",
              "  <div id=\"df-6cc145a7-47b3-44ad-ae31-70e50b17d83a\" class=\"colab-df-container\">\n",
              "    <div>\n",
              "<style scoped>\n",
              "    .dataframe tbody tr th:only-of-type {\n",
              "        vertical-align: middle;\n",
              "    }\n",
              "\n",
              "    .dataframe tbody tr th {\n",
              "        vertical-align: top;\n",
              "    }\n",
              "\n",
              "    .dataframe thead th {\n",
              "        text-align: right;\n",
              "    }\n",
              "</style>\n",
              "<table border=\"1\" class=\"dataframe\">\n",
              "  <thead>\n",
              "    <tr style=\"text-align: right;\">\n",
              "      <th></th>\n",
              "      <th>productAsin</th>\n",
              "      <th>country</th>\n",
              "      <th>date</th>\n",
              "      <th>isVerified</th>\n",
              "      <th>ratingScore</th>\n",
              "      <th>reviewTitle</th>\n",
              "      <th>reviewDescription</th>\n",
              "      <th>reviewUrl</th>\n",
              "      <th>reviewedIn</th>\n",
              "      <th>variant</th>\n",
              "      <th>variantAsin</th>\n",
              "    </tr>\n",
              "  </thead>\n",
              "  <tbody>\n",
              "    <tr>\n",
              "      <th>0</th>\n",
              "      <td>B09G9BL5CP</td>\n",
              "      <td>India</td>\n",
              "      <td>11-08-2024</td>\n",
              "      <td>True</td>\n",
              "      <td>4</td>\n",
              "      <td>No charger</td>\n",
              "      <td>Every thing is good about iPhones, there's not...</td>\n",
              "      <td>https://www.amazon.in/gp/customer-reviews/R345...</td>\n",
              "      <td>Reviewed in India on 11 August 2024</td>\n",
              "      <td>Colour: MidnightSize: 256 GB</td>\n",
              "      <td>B09G9BQS98</td>\n",
              "    </tr>\n",
              "    <tr>\n",
              "      <th>1</th>\n",
              "      <td>B09G9BL5CP</td>\n",
              "      <td>India</td>\n",
              "      <td>16-08-2024</td>\n",
              "      <td>True</td>\n",
              "      <td>5</td>\n",
              "      <td>iPhone 13 256GB</td>\n",
              "      <td>It look so fabulous, I am android user switche...</td>\n",
              "      <td>https://www.amazon.in/gp/customer-reviews/R2HJ...</td>\n",
              "      <td>Reviewed in India on 16 August 2024</td>\n",
              "      <td>Colour: MidnightSize: 256 GB</td>\n",
              "      <td>B09G9BQS98</td>\n",
              "    </tr>\n",
              "    <tr>\n",
              "      <th>2</th>\n",
              "      <td>B09G9BL5CP</td>\n",
              "      <td>India</td>\n",
              "      <td>14-05-2024</td>\n",
              "      <td>True</td>\n",
              "      <td>4</td>\n",
              "      <td>Flip camera option nill</td>\n",
              "      <td>I tried to flip camera while recording but no ...</td>\n",
              "      <td>https://www.amazon.in/gp/customer-reviews/R3Y7...</td>\n",
              "      <td>Reviewed in India on 14 May 2024</td>\n",
              "      <td>Colour: MidnightSize: 256 GB</td>\n",
              "      <td>B09G9BQS98</td>\n",
              "    </tr>\n",
              "    <tr>\n",
              "      <th>3</th>\n",
              "      <td>B09G9BL5CP</td>\n",
              "      <td>India</td>\n",
              "      <td>24-06-2024</td>\n",
              "      <td>True</td>\n",
              "      <td>5</td>\n",
              "      <td>Product</td>\n",
              "      <td>100% genuine</td>\n",
              "      <td>https://www.amazon.in/gp/customer-reviews/R1P9...</td>\n",
              "      <td>Reviewed in India on 24 June 2024</td>\n",
              "      <td>Colour: MidnightSize: 256 GB</td>\n",
              "      <td>B09G9BQS98</td>\n",
              "    </tr>\n",
              "    <tr>\n",
              "      <th>4</th>\n",
              "      <td>B09G9BL5CP</td>\n",
              "      <td>India</td>\n",
              "      <td>18-05-2024</td>\n",
              "      <td>True</td>\n",
              "      <td>5</td>\n",
              "      <td>Good product</td>\n",
              "      <td>Happy to get the iPhone 13 in Amazon offer</td>\n",
              "      <td>https://www.amazon.in/gp/customer-reviews/R1XI...</td>\n",
              "      <td>Reviewed in India on 18 May 2024</td>\n",
              "      <td>Colour: MidnightSize: 256 GB</td>\n",
              "      <td>B09G9BQS98</td>\n",
              "    </tr>\n",
              "  </tbody>\n",
              "</table>\n",
              "</div>\n",
              "    <div class=\"colab-df-buttons\">\n",
              "\n",
              "  <div class=\"colab-df-container\">\n",
              "    <button class=\"colab-df-convert\" onclick=\"convertToInteractive('df-6cc145a7-47b3-44ad-ae31-70e50b17d83a')\"\n",
              "            title=\"Convert this dataframe to an interactive table.\"\n",
              "            style=\"display:none;\">\n",
              "\n",
              "  <svg xmlns=\"http://www.w3.org/2000/svg\" height=\"24px\" viewBox=\"0 -960 960 960\">\n",
              "    <path d=\"M120-120v-720h720v720H120Zm60-500h600v-160H180v160Zm220 220h160v-160H400v160Zm0 220h160v-160H400v160ZM180-400h160v-160H180v160Zm440 0h160v-160H620v160ZM180-180h160v-160H180v160Zm440 0h160v-160H620v160Z\"/>\n",
              "  </svg>\n",
              "    </button>\n",
              "\n",
              "  <style>\n",
              "    .colab-df-container {\n",
              "      display:flex;\n",
              "      gap: 12px;\n",
              "    }\n",
              "\n",
              "    .colab-df-convert {\n",
              "      background-color: #E8F0FE;\n",
              "      border: none;\n",
              "      border-radius: 50%;\n",
              "      cursor: pointer;\n",
              "      display: none;\n",
              "      fill: #1967D2;\n",
              "      height: 32px;\n",
              "      padding: 0 0 0 0;\n",
              "      width: 32px;\n",
              "    }\n",
              "\n",
              "    .colab-df-convert:hover {\n",
              "      background-color: #E2EBFA;\n",
              "      box-shadow: 0px 1px 2px rgba(60, 64, 67, 0.3), 0px 1px 3px 1px rgba(60, 64, 67, 0.15);\n",
              "      fill: #174EA6;\n",
              "    }\n",
              "\n",
              "    .colab-df-buttons div {\n",
              "      margin-bottom: 4px;\n",
              "    }\n",
              "\n",
              "    [theme=dark] .colab-df-convert {\n",
              "      background-color: #3B4455;\n",
              "      fill: #D2E3FC;\n",
              "    }\n",
              "\n",
              "    [theme=dark] .colab-df-convert:hover {\n",
              "      background-color: #434B5C;\n",
              "      box-shadow: 0px 1px 3px 1px rgba(0, 0, 0, 0.15);\n",
              "      filter: drop-shadow(0px 1px 2px rgba(0, 0, 0, 0.3));\n",
              "      fill: #FFFFFF;\n",
              "    }\n",
              "  </style>\n",
              "\n",
              "    <script>\n",
              "      const buttonEl =\n",
              "        document.querySelector('#df-6cc145a7-47b3-44ad-ae31-70e50b17d83a button.colab-df-convert');\n",
              "      buttonEl.style.display =\n",
              "        google.colab.kernel.accessAllowed ? 'block' : 'none';\n",
              "\n",
              "      async function convertToInteractive(key) {\n",
              "        const element = document.querySelector('#df-6cc145a7-47b3-44ad-ae31-70e50b17d83a');\n",
              "        const dataTable =\n",
              "          await google.colab.kernel.invokeFunction('convertToInteractive',\n",
              "                                                    [key], {});\n",
              "        if (!dataTable) return;\n",
              "\n",
              "        const docLinkHtml = 'Like what you see? Visit the ' +\n",
              "          '<a target=\"_blank\" href=https://colab.research.google.com/notebooks/data_table.ipynb>data table notebook</a>'\n",
              "          + ' to learn more about interactive tables.';\n",
              "        element.innerHTML = '';\n",
              "        dataTable['output_type'] = 'display_data';\n",
              "        await google.colab.output.renderOutput(dataTable, element);\n",
              "        const docLink = document.createElement('div');\n",
              "        docLink.innerHTML = docLinkHtml;\n",
              "        element.appendChild(docLink);\n",
              "      }\n",
              "    </script>\n",
              "  </div>\n",
              "\n",
              "\n",
              "<div id=\"df-30e80599-efcc-49a5-a725-5690e7ec924b\">\n",
              "  <button class=\"colab-df-quickchart\" onclick=\"quickchart('df-30e80599-efcc-49a5-a725-5690e7ec924b')\"\n",
              "            title=\"Suggest charts\"\n",
              "            style=\"display:none;\">\n",
              "\n",
              "<svg xmlns=\"http://www.w3.org/2000/svg\" height=\"24px\"viewBox=\"0 0 24 24\"\n",
              "     width=\"24px\">\n",
              "    <g>\n",
              "        <path d=\"M19 3H5c-1.1 0-2 .9-2 2v14c0 1.1.9 2 2 2h14c1.1 0 2-.9 2-2V5c0-1.1-.9-2-2-2zM9 17H7v-7h2v7zm4 0h-2V7h2v10zm4 0h-2v-4h2v4z\"/>\n",
              "    </g>\n",
              "</svg>\n",
              "  </button>\n",
              "\n",
              "<style>\n",
              "  .colab-df-quickchart {\n",
              "      --bg-color: #E8F0FE;\n",
              "      --fill-color: #1967D2;\n",
              "      --hover-bg-color: #E2EBFA;\n",
              "      --hover-fill-color: #174EA6;\n",
              "      --disabled-fill-color: #AAA;\n",
              "      --disabled-bg-color: #DDD;\n",
              "  }\n",
              "\n",
              "  [theme=dark] .colab-df-quickchart {\n",
              "      --bg-color: #3B4455;\n",
              "      --fill-color: #D2E3FC;\n",
              "      --hover-bg-color: #434B5C;\n",
              "      --hover-fill-color: #FFFFFF;\n",
              "      --disabled-bg-color: #3B4455;\n",
              "      --disabled-fill-color: #666;\n",
              "  }\n",
              "\n",
              "  .colab-df-quickchart {\n",
              "    background-color: var(--bg-color);\n",
              "    border: none;\n",
              "    border-radius: 50%;\n",
              "    cursor: pointer;\n",
              "    display: none;\n",
              "    fill: var(--fill-color);\n",
              "    height: 32px;\n",
              "    padding: 0;\n",
              "    width: 32px;\n",
              "  }\n",
              "\n",
              "  .colab-df-quickchart:hover {\n",
              "    background-color: var(--hover-bg-color);\n",
              "    box-shadow: 0 1px 2px rgba(60, 64, 67, 0.3), 0 1px 3px 1px rgba(60, 64, 67, 0.15);\n",
              "    fill: var(--button-hover-fill-color);\n",
              "  }\n",
              "\n",
              "  .colab-df-quickchart-complete:disabled,\n",
              "  .colab-df-quickchart-complete:disabled:hover {\n",
              "    background-color: var(--disabled-bg-color);\n",
              "    fill: var(--disabled-fill-color);\n",
              "    box-shadow: none;\n",
              "  }\n",
              "\n",
              "  .colab-df-spinner {\n",
              "    border: 2px solid var(--fill-color);\n",
              "    border-color: transparent;\n",
              "    border-bottom-color: var(--fill-color);\n",
              "    animation:\n",
              "      spin 1s steps(1) infinite;\n",
              "  }\n",
              "\n",
              "  @keyframes spin {\n",
              "    0% {\n",
              "      border-color: transparent;\n",
              "      border-bottom-color: var(--fill-color);\n",
              "      border-left-color: var(--fill-color);\n",
              "    }\n",
              "    20% {\n",
              "      border-color: transparent;\n",
              "      border-left-color: var(--fill-color);\n",
              "      border-top-color: var(--fill-color);\n",
              "    }\n",
              "    30% {\n",
              "      border-color: transparent;\n",
              "      border-left-color: var(--fill-color);\n",
              "      border-top-color: var(--fill-color);\n",
              "      border-right-color: var(--fill-color);\n",
              "    }\n",
              "    40% {\n",
              "      border-color: transparent;\n",
              "      border-right-color: var(--fill-color);\n",
              "      border-top-color: var(--fill-color);\n",
              "    }\n",
              "    60% {\n",
              "      border-color: transparent;\n",
              "      border-right-color: var(--fill-color);\n",
              "    }\n",
              "    80% {\n",
              "      border-color: transparent;\n",
              "      border-right-color: var(--fill-color);\n",
              "      border-bottom-color: var(--fill-color);\n",
              "    }\n",
              "    90% {\n",
              "      border-color: transparent;\n",
              "      border-bottom-color: var(--fill-color);\n",
              "    }\n",
              "  }\n",
              "</style>\n",
              "\n",
              "  <script>\n",
              "    async function quickchart(key) {\n",
              "      const quickchartButtonEl =\n",
              "        document.querySelector('#' + key + ' button');\n",
              "      quickchartButtonEl.disabled = true;  // To prevent multiple clicks.\n",
              "      quickchartButtonEl.classList.add('colab-df-spinner');\n",
              "      try {\n",
              "        const charts = await google.colab.kernel.invokeFunction(\n",
              "            'suggestCharts', [key], {});\n",
              "      } catch (error) {\n",
              "        console.error('Error during call to suggestCharts:', error);\n",
              "      }\n",
              "      quickchartButtonEl.classList.remove('colab-df-spinner');\n",
              "      quickchartButtonEl.classList.add('colab-df-quickchart-complete');\n",
              "    }\n",
              "    (() => {\n",
              "      let quickchartButtonEl =\n",
              "        document.querySelector('#df-30e80599-efcc-49a5-a725-5690e7ec924b button');\n",
              "      quickchartButtonEl.style.display =\n",
              "        google.colab.kernel.accessAllowed ? 'block' : 'none';\n",
              "    })();\n",
              "  </script>\n",
              "</div>\n",
              "\n",
              "    </div>\n",
              "  </div>\n"
            ],
            "application/vnd.google.colaboratory.intrinsic+json": {
              "type": "dataframe",
              "variable_name": "df",
              "summary": "{\n  \"name\": \"df\",\n  \"rows\": 3062,\n  \"fields\": [\n    {\n      \"column\": \"productAsin\",\n      \"properties\": {\n        \"dtype\": \"category\",\n        \"num_unique_values\": 7,\n        \"samples\": [\n          \"B09G9BL5CP\",\n          \"B09P82T3PZ\",\n          \"B0BN72MLT2\"\n        ],\n        \"semantic_type\": \"\",\n        \"description\": \"\"\n      }\n    },\n    {\n      \"column\": \"country\",\n      \"properties\": {\n        \"dtype\": \"category\",\n        \"num_unique_values\": 7,\n        \"samples\": [\n          \"India\",\n          \"Japan\",\n          \"Mexico\"\n        ],\n        \"semantic_type\": \"\",\n        \"description\": \"\"\n      }\n    },\n    {\n      \"column\": \"date\",\n      \"properties\": {\n        \"dtype\": \"category\",\n        \"num_unique_values\": 789,\n        \"samples\": [\n          \"23-12-2023\",\n          \"22-06-2024\",\n          \"06-09-2022\"\n        ],\n        \"semantic_type\": \"\",\n        \"description\": \"\"\n      }\n    },\n    {\n      \"column\": \"isVerified\",\n      \"properties\": {\n        \"dtype\": \"boolean\",\n        \"num_unique_values\": 2,\n        \"samples\": [\n          false,\n          true\n        ],\n        \"semantic_type\": \"\",\n        \"description\": \"\"\n      }\n    },\n    {\n      \"column\": \"ratingScore\",\n      \"properties\": {\n        \"dtype\": \"number\",\n        \"std\": 1,\n        \"min\": 1,\n        \"max\": 5,\n        \"num_unique_values\": 5,\n        \"samples\": [\n          5,\n          1\n        ],\n        \"semantic_type\": \"\",\n        \"description\": \"\"\n      }\n    },\n    {\n      \"column\": \"reviewTitle\",\n      \"properties\": {\n        \"dtype\": \"string\",\n        \"num_unique_values\": 2018,\n        \"samples\": [\n          \"Could not even tell it was renewed!\",\n          \"Battery maximum capacity 89%\"\n        ],\n        \"semantic_type\": \"\",\n        \"description\": \"\"\n      }\n    },\n    {\n      \"column\": \"reviewDescription\",\n      \"properties\": {\n        \"dtype\": \"string\",\n        \"num_unique_values\": 2297,\n        \"samples\": [\n          \"I had a 5 year old Redmi phone.I was unhappy as call recording stopped working, carrier video calling stopped working, battery charging speed reduced, fingerprint stopped working etc etc...So I bought an iPhone.Now I'm happy - it has no call recording (so cannot stop working), no carrier video calling (so cannot stop working), slow battery charging, no fingerprint (so cannot stop working) etc etc...\",\n          \"Very good product\"\n        ],\n        \"semantic_type\": \"\",\n        \"description\": \"\"\n      }\n    },\n    {\n      \"column\": \"reviewUrl\",\n      \"properties\": {\n        \"dtype\": \"string\",\n        \"num_unique_values\": 2460,\n        \"samples\": [\n          \"https://www.amazon.com/gp/customer-reviews/R25EMNUOD7Y2SZ/ref=cm_cr_getr_d_rvw_ttl?ie=UTF8&ASIN=B0BN71T1J7\",\n          \"https://www.amazon.in/gp/customer-reviews/R2POVHKQTONWXM/ref=cm_cr_getr_d_rvw_ttl?ie=UTF8&ASIN=B0BDJ6N5D6\"\n        ],\n        \"semantic_type\": \"\",\n        \"description\": \"\"\n      }\n    },\n    {\n      \"column\": \"reviewedIn\",\n      \"properties\": {\n        \"dtype\": \"category\",\n        \"num_unique_values\": 1255,\n        \"samples\": [\n          \"Reviewed in India on 1 September 2023\",\n          \"Reviewed in India on 1 July 2022\"\n        ],\n        \"semantic_type\": \"\",\n        \"description\": \"\"\n      }\n    },\n    {\n      \"column\": \"variant\",\n      \"properties\": {\n        \"dtype\": \"category\",\n        \"num_unique_values\": 86,\n        \"samples\": [\n          \"Service Provider: UnlockedColor: MidnightSize: 256GB\",\n          \"Colour: MidnightSize: 256 GB\"\n        ],\n        \"semantic_type\": \"\",\n        \"description\": \"\"\n      }\n    },\n    {\n      \"column\": \"variantAsin\",\n      \"properties\": {\n        \"dtype\": \"category\",\n        \"num_unique_values\": 99,\n        \"samples\": [\n          \"B0BN752KC4\",\n          \"B0CHX1W1XY\"\n        ],\n        \"semantic_type\": \"\",\n        \"description\": \"\"\n      }\n    }\n  ]\n}"
            }
          },
          "metadata": {},
          "execution_count": 33
        }
      ],
      "source": [
        "import pandas as pd\n",
        "from google.colab import files\n",
        "\n",
        "df = pd.read_csv('/content/iphone.csv')\n",
        "df.head()"
      ]
    },
    {
      "cell_type": "markdown",
      "source": [
        "\n",
        "**productAsin:** Identificador exclusivo da Amazon para um produto.\n",
        "\n",
        "**country:** O país onde a revisão foi enviada\n",
        "\n",
        "**date:** A data em que a revisão foi enviada.\n",
        "\n",
        "**isVerified:** Um booleano indicando se o revisor é um comprador verificado\n",
        "\n",
        "**ratingScore:** A classificação numérica dada ao produto\n",
        "\n",
        "**reviewTitle:** O título da revisão.\n",
        "\n",
        "**reviewDescription:** O texto detalhado da revisão\n",
        "\n",
        "**reviewUrl:** Semelhante a \"link\", mas referindo-se especificamente ao URL da revisão\n",
        "\n",
        "**reviewedIn:** O produto ou categoria específica para a qual a avaliação foi deixada\n",
        "\n",
        "**variant:** Se aplicável, a variante ou versão específica do produto que está sendo revisado"
      ],
      "metadata": {
        "id": "leFHDs_awKG6"
      }
    },
    {
      "cell_type": "markdown",
      "source": [
        "##Exploração dos dados"
      ],
      "metadata": {
        "id": "vsIO7oY_r5H5"
      }
    },
    {
      "cell_type": "code",
      "source": [
        "df.isnull().sum()"
      ],
      "metadata": {
        "colab": {
          "base_uri": "https://localhost:8080/",
          "height": 429
        },
        "id": "81UiMYxZr78P",
        "outputId": "5a38c4a5-26c7-45fe-bb50-74a0ab8dffea"
      },
      "execution_count": 34,
      "outputs": [
        {
          "output_type": "execute_result",
          "data": {
            "text/plain": [
              "productAsin           0\n",
              "country               0\n",
              "date                  0\n",
              "isVerified            0\n",
              "ratingScore           0\n",
              "reviewTitle           0\n",
              "reviewDescription    86\n",
              "reviewUrl            16\n",
              "reviewedIn            0\n",
              "variant               0\n",
              "variantAsin           0\n",
              "dtype: int64"
            ],
            "text/html": [
              "<div>\n",
              "<style scoped>\n",
              "    .dataframe tbody tr th:only-of-type {\n",
              "        vertical-align: middle;\n",
              "    }\n",
              "\n",
              "    .dataframe tbody tr th {\n",
              "        vertical-align: top;\n",
              "    }\n",
              "\n",
              "    .dataframe thead th {\n",
              "        text-align: right;\n",
              "    }\n",
              "</style>\n",
              "<table border=\"1\" class=\"dataframe\">\n",
              "  <thead>\n",
              "    <tr style=\"text-align: right;\">\n",
              "      <th></th>\n",
              "      <th>0</th>\n",
              "    </tr>\n",
              "  </thead>\n",
              "  <tbody>\n",
              "    <tr>\n",
              "      <th>productAsin</th>\n",
              "      <td>0</td>\n",
              "    </tr>\n",
              "    <tr>\n",
              "      <th>country</th>\n",
              "      <td>0</td>\n",
              "    </tr>\n",
              "    <tr>\n",
              "      <th>date</th>\n",
              "      <td>0</td>\n",
              "    </tr>\n",
              "    <tr>\n",
              "      <th>isVerified</th>\n",
              "      <td>0</td>\n",
              "    </tr>\n",
              "    <tr>\n",
              "      <th>ratingScore</th>\n",
              "      <td>0</td>\n",
              "    </tr>\n",
              "    <tr>\n",
              "      <th>reviewTitle</th>\n",
              "      <td>0</td>\n",
              "    </tr>\n",
              "    <tr>\n",
              "      <th>reviewDescription</th>\n",
              "      <td>86</td>\n",
              "    </tr>\n",
              "    <tr>\n",
              "      <th>reviewUrl</th>\n",
              "      <td>16</td>\n",
              "    </tr>\n",
              "    <tr>\n",
              "      <th>reviewedIn</th>\n",
              "      <td>0</td>\n",
              "    </tr>\n",
              "    <tr>\n",
              "      <th>variant</th>\n",
              "      <td>0</td>\n",
              "    </tr>\n",
              "    <tr>\n",
              "      <th>variantAsin</th>\n",
              "      <td>0</td>\n",
              "    </tr>\n",
              "  </tbody>\n",
              "</table>\n",
              "</div><br><label><b>dtype:</b> int64</label>"
            ]
          },
          "metadata": {},
          "execution_count": 34
        }
      ]
    },
    {
      "cell_type": "markdown",
      "source": [
        "##Tratamento de dados faltantes"
      ],
      "metadata": {
        "id": "ZiXpLVNfsAd_"
      }
    },
    {
      "cell_type": "code",
      "source": [
        "df['reviewDescription'].fillna('Desconhecido', inplace=True)"
      ],
      "metadata": {
        "colab": {
          "base_uri": "https://localhost:8080/"
        },
        "collapsed": true,
        "id": "Eg7ykvnusCsP",
        "outputId": "3d34719f-58d9-4c61-a481-386dbc997456"
      },
      "execution_count": 35,
      "outputs": [
        {
          "output_type": "stream",
          "name": "stderr",
          "text": [
            "<ipython-input-35-99f91d4a0527>:1: FutureWarning: A value is trying to be set on a copy of a DataFrame or Series through chained assignment using an inplace method.\n",
            "The behavior will change in pandas 3.0. This inplace method will never work because the intermediate object on which we are setting values always behaves as a copy.\n",
            "\n",
            "For example, when doing 'df[col].method(value, inplace=True)', try using 'df.method({col: value}, inplace=True)' or df[col] = df[col].method(value) instead, to perform the operation inplace on the original object.\n",
            "\n",
            "\n",
            "  df['reviewDescription'].fillna('Desconhecido', inplace=True)\n"
          ]
        }
      ]
    },
    {
      "cell_type": "markdown",
      "source": [
        "###Conversao de tipo de dados"
      ],
      "metadata": {
        "id": "kkFJbCUctsIP"
      }
    },
    {
      "cell_type": "code",
      "source": [
        "df['reviewDescription'] = df['reviewDescription'].astype('category')\n",
        "df['ratingScore'] = pd.to_numeric(df['ratingScore'], errors='coerce')"
      ],
      "metadata": {
        "id": "0ZlSnLLUtuZM"
      },
      "execution_count": 36,
      "outputs": []
    },
    {
      "cell_type": "markdown",
      "source": [
        "###Exploração Estatistica dos dados"
      ],
      "metadata": {
        "id": "k2o1XJEMuLMO"
      }
    },
    {
      "cell_type": "code",
      "source": [
        "df.describe()"
      ],
      "metadata": {
        "colab": {
          "base_uri": "https://localhost:8080/",
          "height": 300
        },
        "id": "z8B6LV6tuQg9",
        "outputId": "b46b5855-8a11-46a6-db96-94b17b5d3388"
      },
      "execution_count": 37,
      "outputs": [
        {
          "output_type": "execute_result",
          "data": {
            "text/plain": [
              "       ratingScore\n",
              "count  3062.000000\n",
              "mean      3.758981\n",
              "std       1.579033\n",
              "min       1.000000\n",
              "25%       3.000000\n",
              "50%       5.000000\n",
              "75%       5.000000\n",
              "max       5.000000"
            ],
            "text/html": [
              "\n",
              "  <div id=\"df-22a8bed0-4bc1-4eb5-81e9-6004dc0dd47b\" class=\"colab-df-container\">\n",
              "    <div>\n",
              "<style scoped>\n",
              "    .dataframe tbody tr th:only-of-type {\n",
              "        vertical-align: middle;\n",
              "    }\n",
              "\n",
              "    .dataframe tbody tr th {\n",
              "        vertical-align: top;\n",
              "    }\n",
              "\n",
              "    .dataframe thead th {\n",
              "        text-align: right;\n",
              "    }\n",
              "</style>\n",
              "<table border=\"1\" class=\"dataframe\">\n",
              "  <thead>\n",
              "    <tr style=\"text-align: right;\">\n",
              "      <th></th>\n",
              "      <th>ratingScore</th>\n",
              "    </tr>\n",
              "  </thead>\n",
              "  <tbody>\n",
              "    <tr>\n",
              "      <th>count</th>\n",
              "      <td>3062.000000</td>\n",
              "    </tr>\n",
              "    <tr>\n",
              "      <th>mean</th>\n",
              "      <td>3.758981</td>\n",
              "    </tr>\n",
              "    <tr>\n",
              "      <th>std</th>\n",
              "      <td>1.579033</td>\n",
              "    </tr>\n",
              "    <tr>\n",
              "      <th>min</th>\n",
              "      <td>1.000000</td>\n",
              "    </tr>\n",
              "    <tr>\n",
              "      <th>25%</th>\n",
              "      <td>3.000000</td>\n",
              "    </tr>\n",
              "    <tr>\n",
              "      <th>50%</th>\n",
              "      <td>5.000000</td>\n",
              "    </tr>\n",
              "    <tr>\n",
              "      <th>75%</th>\n",
              "      <td>5.000000</td>\n",
              "    </tr>\n",
              "    <tr>\n",
              "      <th>max</th>\n",
              "      <td>5.000000</td>\n",
              "    </tr>\n",
              "  </tbody>\n",
              "</table>\n",
              "</div>\n",
              "    <div class=\"colab-df-buttons\">\n",
              "\n",
              "  <div class=\"colab-df-container\">\n",
              "    <button class=\"colab-df-convert\" onclick=\"convertToInteractive('df-22a8bed0-4bc1-4eb5-81e9-6004dc0dd47b')\"\n",
              "            title=\"Convert this dataframe to an interactive table.\"\n",
              "            style=\"display:none;\">\n",
              "\n",
              "  <svg xmlns=\"http://www.w3.org/2000/svg\" height=\"24px\" viewBox=\"0 -960 960 960\">\n",
              "    <path d=\"M120-120v-720h720v720H120Zm60-500h600v-160H180v160Zm220 220h160v-160H400v160Zm0 220h160v-160H400v160ZM180-400h160v-160H180v160Zm440 0h160v-160H620v160ZM180-180h160v-160H180v160Zm440 0h160v-160H620v160Z\"/>\n",
              "  </svg>\n",
              "    </button>\n",
              "\n",
              "  <style>\n",
              "    .colab-df-container {\n",
              "      display:flex;\n",
              "      gap: 12px;\n",
              "    }\n",
              "\n",
              "    .colab-df-convert {\n",
              "      background-color: #E8F0FE;\n",
              "      border: none;\n",
              "      border-radius: 50%;\n",
              "      cursor: pointer;\n",
              "      display: none;\n",
              "      fill: #1967D2;\n",
              "      height: 32px;\n",
              "      padding: 0 0 0 0;\n",
              "      width: 32px;\n",
              "    }\n",
              "\n",
              "    .colab-df-convert:hover {\n",
              "      background-color: #E2EBFA;\n",
              "      box-shadow: 0px 1px 2px rgba(60, 64, 67, 0.3), 0px 1px 3px 1px rgba(60, 64, 67, 0.15);\n",
              "      fill: #174EA6;\n",
              "    }\n",
              "\n",
              "    .colab-df-buttons div {\n",
              "      margin-bottom: 4px;\n",
              "    }\n",
              "\n",
              "    [theme=dark] .colab-df-convert {\n",
              "      background-color: #3B4455;\n",
              "      fill: #D2E3FC;\n",
              "    }\n",
              "\n",
              "    [theme=dark] .colab-df-convert:hover {\n",
              "      background-color: #434B5C;\n",
              "      box-shadow: 0px 1px 3px 1px rgba(0, 0, 0, 0.15);\n",
              "      filter: drop-shadow(0px 1px 2px rgba(0, 0, 0, 0.3));\n",
              "      fill: #FFFFFF;\n",
              "    }\n",
              "  </style>\n",
              "\n",
              "    <script>\n",
              "      const buttonEl =\n",
              "        document.querySelector('#df-22a8bed0-4bc1-4eb5-81e9-6004dc0dd47b button.colab-df-convert');\n",
              "      buttonEl.style.display =\n",
              "        google.colab.kernel.accessAllowed ? 'block' : 'none';\n",
              "\n",
              "      async function convertToInteractive(key) {\n",
              "        const element = document.querySelector('#df-22a8bed0-4bc1-4eb5-81e9-6004dc0dd47b');\n",
              "        const dataTable =\n",
              "          await google.colab.kernel.invokeFunction('convertToInteractive',\n",
              "                                                    [key], {});\n",
              "        if (!dataTable) return;\n",
              "\n",
              "        const docLinkHtml = 'Like what you see? Visit the ' +\n",
              "          '<a target=\"_blank\" href=https://colab.research.google.com/notebooks/data_table.ipynb>data table notebook</a>'\n",
              "          + ' to learn more about interactive tables.';\n",
              "        element.innerHTML = '';\n",
              "        dataTable['output_type'] = 'display_data';\n",
              "        await google.colab.output.renderOutput(dataTable, element);\n",
              "        const docLink = document.createElement('div');\n",
              "        docLink.innerHTML = docLinkHtml;\n",
              "        element.appendChild(docLink);\n",
              "      }\n",
              "    </script>\n",
              "  </div>\n",
              "\n",
              "\n",
              "<div id=\"df-ee9f477a-3450-4f24-a8fe-f6f2e57dfc9f\">\n",
              "  <button class=\"colab-df-quickchart\" onclick=\"quickchart('df-ee9f477a-3450-4f24-a8fe-f6f2e57dfc9f')\"\n",
              "            title=\"Suggest charts\"\n",
              "            style=\"display:none;\">\n",
              "\n",
              "<svg xmlns=\"http://www.w3.org/2000/svg\" height=\"24px\"viewBox=\"0 0 24 24\"\n",
              "     width=\"24px\">\n",
              "    <g>\n",
              "        <path d=\"M19 3H5c-1.1 0-2 .9-2 2v14c0 1.1.9 2 2 2h14c1.1 0 2-.9 2-2V5c0-1.1-.9-2-2-2zM9 17H7v-7h2v7zm4 0h-2V7h2v10zm4 0h-2v-4h2v4z\"/>\n",
              "    </g>\n",
              "</svg>\n",
              "  </button>\n",
              "\n",
              "<style>\n",
              "  .colab-df-quickchart {\n",
              "      --bg-color: #E8F0FE;\n",
              "      --fill-color: #1967D2;\n",
              "      --hover-bg-color: #E2EBFA;\n",
              "      --hover-fill-color: #174EA6;\n",
              "      --disabled-fill-color: #AAA;\n",
              "      --disabled-bg-color: #DDD;\n",
              "  }\n",
              "\n",
              "  [theme=dark] .colab-df-quickchart {\n",
              "      --bg-color: #3B4455;\n",
              "      --fill-color: #D2E3FC;\n",
              "      --hover-bg-color: #434B5C;\n",
              "      --hover-fill-color: #FFFFFF;\n",
              "      --disabled-bg-color: #3B4455;\n",
              "      --disabled-fill-color: #666;\n",
              "  }\n",
              "\n",
              "  .colab-df-quickchart {\n",
              "    background-color: var(--bg-color);\n",
              "    border: none;\n",
              "    border-radius: 50%;\n",
              "    cursor: pointer;\n",
              "    display: none;\n",
              "    fill: var(--fill-color);\n",
              "    height: 32px;\n",
              "    padding: 0;\n",
              "    width: 32px;\n",
              "  }\n",
              "\n",
              "  .colab-df-quickchart:hover {\n",
              "    background-color: var(--hover-bg-color);\n",
              "    box-shadow: 0 1px 2px rgba(60, 64, 67, 0.3), 0 1px 3px 1px rgba(60, 64, 67, 0.15);\n",
              "    fill: var(--button-hover-fill-color);\n",
              "  }\n",
              "\n",
              "  .colab-df-quickchart-complete:disabled,\n",
              "  .colab-df-quickchart-complete:disabled:hover {\n",
              "    background-color: var(--disabled-bg-color);\n",
              "    fill: var(--disabled-fill-color);\n",
              "    box-shadow: none;\n",
              "  }\n",
              "\n",
              "  .colab-df-spinner {\n",
              "    border: 2px solid var(--fill-color);\n",
              "    border-color: transparent;\n",
              "    border-bottom-color: var(--fill-color);\n",
              "    animation:\n",
              "      spin 1s steps(1) infinite;\n",
              "  }\n",
              "\n",
              "  @keyframes spin {\n",
              "    0% {\n",
              "      border-color: transparent;\n",
              "      border-bottom-color: var(--fill-color);\n",
              "      border-left-color: var(--fill-color);\n",
              "    }\n",
              "    20% {\n",
              "      border-color: transparent;\n",
              "      border-left-color: var(--fill-color);\n",
              "      border-top-color: var(--fill-color);\n",
              "    }\n",
              "    30% {\n",
              "      border-color: transparent;\n",
              "      border-left-color: var(--fill-color);\n",
              "      border-top-color: var(--fill-color);\n",
              "      border-right-color: var(--fill-color);\n",
              "    }\n",
              "    40% {\n",
              "      border-color: transparent;\n",
              "      border-right-color: var(--fill-color);\n",
              "      border-top-color: var(--fill-color);\n",
              "    }\n",
              "    60% {\n",
              "      border-color: transparent;\n",
              "      border-right-color: var(--fill-color);\n",
              "    }\n",
              "    80% {\n",
              "      border-color: transparent;\n",
              "      border-right-color: var(--fill-color);\n",
              "      border-bottom-color: var(--fill-color);\n",
              "    }\n",
              "    90% {\n",
              "      border-color: transparent;\n",
              "      border-bottom-color: var(--fill-color);\n",
              "    }\n",
              "  }\n",
              "</style>\n",
              "\n",
              "  <script>\n",
              "    async function quickchart(key) {\n",
              "      const quickchartButtonEl =\n",
              "        document.querySelector('#' + key + ' button');\n",
              "      quickchartButtonEl.disabled = true;  // To prevent multiple clicks.\n",
              "      quickchartButtonEl.classList.add('colab-df-spinner');\n",
              "      try {\n",
              "        const charts = await google.colab.kernel.invokeFunction(\n",
              "            'suggestCharts', [key], {});\n",
              "      } catch (error) {\n",
              "        console.error('Error during call to suggestCharts:', error);\n",
              "      }\n",
              "      quickchartButtonEl.classList.remove('colab-df-spinner');\n",
              "      quickchartButtonEl.classList.add('colab-df-quickchart-complete');\n",
              "    }\n",
              "    (() => {\n",
              "      let quickchartButtonEl =\n",
              "        document.querySelector('#df-ee9f477a-3450-4f24-a8fe-f6f2e57dfc9f button');\n",
              "      quickchartButtonEl.style.display =\n",
              "        google.colab.kernel.accessAllowed ? 'block' : 'none';\n",
              "    })();\n",
              "  </script>\n",
              "</div>\n",
              "\n",
              "    </div>\n",
              "  </div>\n"
            ],
            "application/vnd.google.colaboratory.intrinsic+json": {
              "type": "dataframe",
              "summary": "{\n  \"name\": \"df\",\n  \"rows\": 8,\n  \"fields\": [\n    {\n      \"column\": \"ratingScore\",\n      \"properties\": {\n        \"dtype\": \"number\",\n        \"std\": 1081.3523498240536,\n        \"min\": 1.0,\n        \"max\": 3062.0,\n        \"num_unique_values\": 6,\n        \"samples\": [\n          3062.0,\n          3.75898105813194,\n          5.0\n        ],\n        \"semantic_type\": \"\",\n        \"description\": \"\"\n      }\n    }\n  ]\n}"
            }
          },
          "metadata": {},
          "execution_count": 37
        }
      ]
    },
    {
      "cell_type": "markdown",
      "source": [
        "###Frequencia de valores para variaveis categoricas"
      ],
      "metadata": {
        "id": "szbqrFJTuWBz"
      }
    },
    {
      "cell_type": "code",
      "source": [
        "df['reviewDescription'].value_counts()"
      ],
      "metadata": {
        "colab": {
          "base_uri": "https://localhost:8080/",
          "height": 507
        },
        "id": "76HVBOmLuc6E",
        "outputId": "84c18e11-b8c7-4435-c287-808c370f7370"
      },
      "execution_count": 38,
      "outputs": [
        {
          "output_type": "execute_result",
          "data": {
            "text/plain": [
              "reviewDescription\n",
              "Desconhecido                                                                                                                                                                                                                                                                                                                                                                                                                                                                                                                                                        86\n",
              "Good                                                                                                                                                                                                                                                                                                                                                                                                                                                                                                                                                                32\n",
              "Nice                                                                                                                                                                                                                                                                                                                                                                                                                                                                                                                                                                25\n",
              "Good product                                                                                                                                                                                                                                                                                                                                                                                                                                                                                                                                                        14\n",
              "Excellent product                                                                                                                                                                                                                                                                                                                                                                                                                                                                                                                                                   12\n",
              "                                                                                                                                                                                                                                                                                                                                                                                                                                                                                                                                                                    ..\n",
              "I picked a refurb in excellent condition but received a phone with many large scratches as well as LED burn in on 1/4 of the screen. I don’t mind the dents on the case portion but there are too many noticeable blemishes on screen to say this phone is even in good condition.                                                                                                                                                                                                                                                                                   1\n",
              "I phone ki battery purani h .band ho gi h .mobile ni chal raha h.                                                                                                                                                                                                                                                                                                                                                                                                                                                                                                    1\n",
              "I phone 13 is not purchase phone is bad1day 3 times charging is not purchase friend I phone company is फ्राईड company                                                                                                                                                                                                                                                                                                                                                                                                                                                1\n",
              "I paid 73,000 for a phone but they don't give a charger! Thats so cheap about apple. Apple told that they are not giving charger to cut down on waste. Good decision. If they think everyone has an iphone and compatible charger, then why they need to produce new phones in the first place? To cut down waste and save environment, they can stop producing phone as well, right? So all these corporate giants who talk about environment actually has a different intention. My 2 stars is not for the phone, but for their cheap tactics to cheat people.     1\n",
              "Iâ€™m android user for 15 years and after that i love ios so try a new experience                                                                                                                                                                                                                                                                                                                                                                                                                                                                                    1\n",
              "Name: count, Length: 2298, dtype: int64"
            ],
            "text/html": [
              "<div>\n",
              "<style scoped>\n",
              "    .dataframe tbody tr th:only-of-type {\n",
              "        vertical-align: middle;\n",
              "    }\n",
              "\n",
              "    .dataframe tbody tr th {\n",
              "        vertical-align: top;\n",
              "    }\n",
              "\n",
              "    .dataframe thead th {\n",
              "        text-align: right;\n",
              "    }\n",
              "</style>\n",
              "<table border=\"1\" class=\"dataframe\">\n",
              "  <thead>\n",
              "    <tr style=\"text-align: right;\">\n",
              "      <th></th>\n",
              "      <th>count</th>\n",
              "    </tr>\n",
              "    <tr>\n",
              "      <th>reviewDescription</th>\n",
              "      <th></th>\n",
              "    </tr>\n",
              "  </thead>\n",
              "  <tbody>\n",
              "    <tr>\n",
              "      <th>Desconhecido</th>\n",
              "      <td>86</td>\n",
              "    </tr>\n",
              "    <tr>\n",
              "      <th>Good</th>\n",
              "      <td>32</td>\n",
              "    </tr>\n",
              "    <tr>\n",
              "      <th>Nice</th>\n",
              "      <td>25</td>\n",
              "    </tr>\n",
              "    <tr>\n",
              "      <th>Good product</th>\n",
              "      <td>14</td>\n",
              "    </tr>\n",
              "    <tr>\n",
              "      <th>Excellent product</th>\n",
              "      <td>12</td>\n",
              "    </tr>\n",
              "    <tr>\n",
              "      <th>...</th>\n",
              "      <td>...</td>\n",
              "    </tr>\n",
              "    <tr>\n",
              "      <th>I picked a refurb in excellent condition but received a phone with many large scratches as well as LED burn in on 1/4 of the screen. I don’t mind the dents on the case portion but there are too many noticeable blemishes on screen to say this phone is even in good condition.</th>\n",
              "      <td>1</td>\n",
              "    </tr>\n",
              "    <tr>\n",
              "      <th>I phone ki battery purani h .band ho gi h .mobile ni chal raha h.</th>\n",
              "      <td>1</td>\n",
              "    </tr>\n",
              "    <tr>\n",
              "      <th>I phone 13 is not purchase phone is bad1day 3 times charging is not purchase friend I phone company is फ्राईड company</th>\n",
              "      <td>1</td>\n",
              "    </tr>\n",
              "    <tr>\n",
              "      <th>I paid 73,000 for a phone but they don't give a charger! Thats so cheap about apple. Apple told that they are not giving charger to cut down on waste. Good decision. If they think everyone has an iphone and compatible charger, then why they need to produce new phones in the first place? To cut down waste and save environment, they can stop producing phone as well, right? So all these corporate giants who talk about environment actually has a different intention. My 2 stars is not for the phone, but for their cheap tactics to cheat people.</th>\n",
              "      <td>1</td>\n",
              "    </tr>\n",
              "    <tr>\n",
              "      <th>Iâ€™m android user for 15 years and after that i love ios so try a new experience</th>\n",
              "      <td>1</td>\n",
              "    </tr>\n",
              "  </tbody>\n",
              "</table>\n",
              "<p>2298 rows × 1 columns</p>\n",
              "</div><br><label><b>dtype:</b> int64</label>"
            ]
          },
          "metadata": {},
          "execution_count": 38
        }
      ]
    },
    {
      "cell_type": "markdown",
      "source": [
        "##Criação de Gráficos(visualização dos dados)"
      ],
      "metadata": {
        "id": "kpHXFdOduprl"
      }
    },
    {
      "cell_type": "code",
      "source": [
        "import matplotlib.pyplot as plt\n",
        "import seaborn as sns"
      ],
      "metadata": {
        "id": "y-lVbtskuu_t"
      },
      "execution_count": 39,
      "outputs": []
    },
    {
      "cell_type": "code",
      "source": [
        "sns.histplot(df['ratingScore'], bins=10, kde=True)\n",
        "plt.title('Distribuição de Ranking por Codigo de iphone')\n",
        "plt.show()"
      ],
      "metadata": {
        "colab": {
          "base_uri": "https://localhost:8080/",
          "height": 472
        },
        "id": "tjHH8HD3u52y",
        "outputId": "f6e47e33-5465-48ef-9b91-32e9fdc8d3f8"
      },
      "execution_count": 40,
      "outputs": [
        {
          "output_type": "display_data",
          "data": {
            "text/plain": [
              "<Figure size 640x480 with 1 Axes>"
            ],
            "image/png": "[encoded data removed]"
          },
          "metadata": {}
        }
      ]
    },
    {
      "cell_type": "markdown",
      "source": [
        "###BoxPlot"
      ],
      "metadata": {
        "id": "1s5XzBmWw7Y-"
      }
    },
    {
      "cell_type": "code",
      "source": [
        "sns.boxplot(x=df['ratingScore'])\n",
        "plt.title('Boxplot do ranking numérico')\n",
        "plt.show()"
      ],
      "metadata": {
        "colab": {
          "base_uri": "https://localhost:8080/",
          "height": 507
        },
        "id": "7ejLGPiuw-q4",
        "outputId": "5559a56c-a278-431c-8389-37b063e02101"
      },
      "execution_count": 41,
      "outputs": [
        {
          "output_type": "stream",
          "name": "stderr",
          "text": [
            "/usr/local/lib/python3.10/dist-packages/seaborn/categorical.py:640: FutureWarning: SeriesGroupBy.grouper is deprecated and will be removed in a future version of pandas.\n",
            "  positions = grouped.grouper.result_index.to_numpy(dtype=float)\n"
          ]
        },
        {
          "output_type": "display_data",
          "data": {
            "text/plain": [
              "<Figure size 640x480 with 1 Axes>"
            ],
            "image/png": "[encoded data removed]"
          },
          "metadata": {}
        }
      ]
    },
    {
      "cell_type": "markdown",
      "source": [
        "#Grafico para variáveis categóricas"
      ],
      "metadata": {
        "id": "olEiVIGjxQIN"
      }
    },
    {
      "cell_type": "markdown",
      "source": [
        "###Grafico de barras"
      ],
      "metadata": {
        "id": "FOWnvdt0xaj-"
      }
    },
    {
      "cell_type": "code",
      "source": [
        "top10 = df['reviewTitle'].value_counts().nlargest(10)\n",
        "\n",
        "# Criei um novo DataFrame apenas com os títulos mais comuns pois estava trazendo muitas informações\n",
        "filtered_df = df[df['reviewTitle'].isin(top10.index)]\n",
        "\n",
        "# Criei um gráfico de contagem para os títulos mais comuns e ficar mais visualizavel\n",
        "sns.countplot(x='reviewTitle', data=filtered_df, order=top10.index)\n",
        "plt.title('Top 10 Distribuição das Avaliações Dadas')\n",
        "plt.xticks(rotation=90)\n",
        "plt.show()"
      ],
      "metadata": {
        "colab": {
          "base_uri": "https://localhost:8080/",
          "height": 552
        },
        "id": "c7XjhtrSxT7m",
        "outputId": "146d1f64-2e04-4bc1-99a6-54e760f98ad1"
      },
      "execution_count": 42,
      "outputs": [
        {
          "output_type": "display_data",
          "data": {
            "text/plain": [
              "<Figure size 640x480 with 1 Axes>"
            ],
            "image/png": "[encoded data removed]"
          },
          "metadata": {}
        }
      ]
    },
    {
      "cell_type": "markdown",
      "source": [
        "###Grafico de pizza"
      ],
      "metadata": {
        "id": "7wLak39uzKlV"
      }
    },
    {
      "cell_type": "code",
      "source": [
        "top_reviews = df['reviewTitle'].value_counts().nlargest(10)\n",
        "\n",
        "# Crie um gráfico de pizza para os títulos mais comuns\n",
        "top_reviews.plot.pie(autopct='%1.1f%%', startangle=90, cmap='viridis')\n",
        "plt.title('Proporção dos Top 10 Reviews')\n",
        "plt.ylabel('')\n",
        "plt.show()"
      ],
      "metadata": {
        "colab": {
          "base_uri": "https://localhost:8080/",
          "height": 428
        },
        "id": "8RpSO7HwzNGE",
        "outputId": "e301bed6-4d4a-4cae-9b97-0dc084ade2a1"
      },
      "execution_count": 43,
      "outputs": [
        {
          "output_type": "display_data",
          "data": {
            "text/plain": [
              "<Figure size 640x480 with 1 Axes>"
            ],
            "image/png": "[encoded data removed]"
          },
          "metadata": {}
        }
      ]
    },
    {
      "cell_type": "markdown",
      "source": [
        "##Graficos relacionais: Grafico de dispersão"
      ],
      "metadata": {
        "id": "6PTID8YyzvjL"
      }
    },
    {
      "cell_type": "code",
      "source": [
        "sns.scatterplot(x='ratingScore', y='productAsin', data=df)\n",
        "plt.title('Correlação entre Variáveis Númericas')\n",
        "plt.show()"
      ],
      "metadata": {
        "colab": {
          "base_uri": "https://localhost:8080/",
          "height": 472
        },
        "id": "ZhIHZzINz0WE",
        "outputId": "7fa445ba-1fb5-4026-ba2f-78d46496aeb4"
      },
      "execution_count": 44,
      "outputs": [
        {
          "output_type": "display_data",
          "data": {
            "text/plain": [
              "<Figure size 640x480 with 1 Axes>"
            ],
            "image/png": "[encoded data removed]"
          },
          "metadata": {}
        }
      ]
    },
    {
      "cell_type": "markdown",
      "source": [
        "#Conclusão dos Dados Observados"
      ],
      "metadata": {
        "id": "qrtIL-1y0cSx"
      }
    },
    {
      "cell_type": "markdown",
      "source": [
        "###1.Quais padrões você observou nas variáveis numéricas? (exemplo:distribuição normal, outliers)\n",
        "R: Que em ambos os resultados, obtive uma grande variação entre elas. Nao houve variáveis proximas uma das outras"
      ],
      "metadata": {
        "id": "QXFug3fX0eUg"
      }
    },
    {
      "cell_type": "markdown",
      "source": [
        "###2.Como estão distribuídas as variáveis categóricas? Alguma categoria se destaca em termos de frequência?\n",
        "R: Estao distribuidas em satisfações do cliente com o aparelho. **Good, ExelLent e Nice** sao os que mais se destacam"
      ],
      "metadata": {
        "id": "YUl3oD3j1CXy"
      }
    },
    {
      "cell_type": "markdown",
      "source": [
        "###3.Você identificou correlações entre variáveis numéricas? Qual pode ser a relação entre essas variáveis?\n",
        "R: A base de dados que eu escolhi é baseada em avaliações então nao encontrei correlações. O grafico de dispersão mostrou isso acima"
      ],
      "metadata": {
        "id": "eNnk1HOT1ea6"
      }
    },
    {
      "cell_type": "markdown",
      "source": [
        "###4.Com base nos dados, quais são as principais conclusões que você pode tirar? O que essas conclusões indicam para o contexto do dataset escolhido?\n",
        "R: Que as avaliações dos aparelhos Iphone são positivas"
      ],
      "metadata": {
        "id": "csmfZ25917Yu"
      }
    }
  ]
}